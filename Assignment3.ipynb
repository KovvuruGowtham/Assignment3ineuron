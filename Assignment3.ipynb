{
 "cells": [
  {
   "cell_type": "markdown",
   "id": "b1597c06-4eaf-410f-891c-6905998c8da2",
   "metadata": {},
   "source": [
    "1. Why are functions advantageous to have in your programs?"
   ]
  },
  {
   "cell_type": "raw",
   "id": "6b517856-11d7-4db9-ae4a-d389b52a4456",
   "metadata": {},
   "source": [
    "Ans: Functions help to avoid writing the same code again and again in a program. They help in significantly reducing the length of the code in a program. They can be called anywhere and any number of times, within a single program. A large program can be easily tracked and comprehended, when it is divided into simple functions."
   ]
  },
  {
   "cell_type": "raw",
   "id": "267a06dd-2032-448c-b2b0-dfc7b6f0281f",
   "metadata": {},
   "source": [
    "2. When does the code in a function run: when it is specified or when it is called?"
   ]
  },
  {
   "cell_type": "raw",
   "id": "b769c96d-5771-4c6c-895f-e53990f00a4e",
   "metadata": {},
   "source": [
    "Ans: The code in a function runs, only when it is called after defining it."
   ]
  },
  {
   "cell_type": "raw",
   "id": "a53327fb-86ed-4606-8a80-b1219fb943ba",
   "metadata": {},
   "source": [
    "3. What statement creates a function?"
   ]
  },
  {
   "cell_type": "raw",
   "id": "89b3ef6a-e067-470e-af2a-91fe2e971c93",
   "metadata": {},
   "source": [
    "Ans: The def statement creates a function."
   ]
  },
  {
   "cell_type": "markdown",
   "id": "0d3eab50-a16c-4134-9b89-f123dcb10386",
   "metadata": {},
   "source": [
    "4. What is the difference between a function and a function call?"
   ]
  },
  {
   "cell_type": "raw",
   "id": "2aedc745-bb21-47af-a3f7-94f31ec1e25f",
   "metadata": {},
   "source": [
    "Ans: \n",
    "\n",
    "A function consists of a def statement and the code to be executed.\n",
    "\n",
    "A function call mentioned at any point in a program, directs the program execution through the code in the function statement and executes the funtion's return value."
   ]
  },
  {
   "cell_type": "markdown",
   "id": "c26ebba0-e8fb-4760-8290-092073a7871e",
   "metadata": {},
   "source": [
    "5. How many global scopes are there in a Python program? How many local scopes?"
   ]
  },
  {
   "cell_type": "raw",
   "id": "b3153d07-4bb7-4f58-a133-65a7bcf3d970",
   "metadata": {},
   "source": [
    "Ans:\n",
    "    There is one global scope for a program execution.\n",
    "    There is one local scope for each function got created."
   ]
  },
  {
   "cell_type": "markdown",
   "id": "d9375353-5ace-4241-8f6b-6db241af7d92",
   "metadata": {},
   "source": [
    "6. What happens to variables in a local scope when the function call returns?"
   ]
  },
  {
   "cell_type": "raw",
   "id": "101746e2-861c-4a86-bbf0-e79d8e42af99",
   "metadata": {},
   "source": [
    "Ans: When a function call returns, the local scope is collapsed and all the variables in it are forgotten."
   ]
  },
  {
   "cell_type": "markdown",
   "id": "3c046229-9502-4193-9432-2da34169fc9a",
   "metadata": {},
   "source": [
    "7. What is the concept of a return value? Is it possible to have a return value in an expression?"
   ]
  },
  {
   "cell_type": "raw",
   "id": "4c3f7121-5c2a-4308-9319-1f43367fd366",
   "metadata": {},
   "source": [
    "Ans: A return statement is used to end the execution of a function call and returns the result of the statement/expression,that follows the result keyword.\n",
    "\n",
    "Yes, it is possible to have a return value in an expression"
   ]
  },
  {
   "cell_type": "markdown",
   "id": "a15808c7-1a44-4e7e-9adf-d9d760baf46a",
   "metadata": {},
   "source": [
    "8. If a function does not have a return statement, what is the return value of a call to that function?"
   ]
  },
  {
   "cell_type": "raw",
   "id": "5985afa2-16f9-426b-94a2-352bea3bb79b",
   "metadata": {},
   "source": [
    "Ans. If a function does not have a return statement, the return value of a call to that function will be a special value called 'None'."
   ]
  },
  {
   "cell_type": "markdown",
   "id": "91bdd317-6d18-4e38-913d-85aac1614721",
   "metadata": {},
   "source": [
    "9. How do you make a function variable refer to the global variable?"
   ]
  },
  {
   "cell_type": "raw",
   "id": "badde952-69d2-4b62-890e-6de330e6755d",
   "metadata": {},
   "source": [
    "Ans:\n",
    "    A global statement will make a function variable refer to the global variable"
   ]
  },
  {
   "cell_type": "markdown",
   "id": "01d0ee23-297e-4b10-acef-632bd6691457",
   "metadata": {},
   "source": [
    "10. What is the data type of None?"
   ]
  },
  {
   "cell_type": "raw",
   "id": "d893fe5c-c97e-4645-8b06-76ab92e5574f",
   "metadata": {},
   "source": [
    "Ans: It is NoneType"
   ]
  },
  {
   "cell_type": "raw",
   "id": "6a671766-6369-40f9-83fe-3e5dde9ce33e",
   "metadata": {},
   "source": [
    "11. What does the sentence import areallyourpetsnamederic do?"
   ]
  },
  {
   "cell_type": "raw",
   "id": "52937310-4619-4f46-b089-5e30f27f179c",
   "metadata": {},
   "source": [
    "Ans: The sentence imports a module called areallyourpetsnamederic and with it gives access to class/functions in it."
   ]
  },
  {
   "cell_type": "markdown",
   "id": "3349f5a3-f444-4f68-ad7e-45b8759ae469",
   "metadata": {},
   "source": [
    "12. If you had a bacon() feature in a spam module, what would you call it after importing spam?"
   ]
  },
  {
   "cell_type": "code",
   "execution_count": null,
   "id": "867a8157-33d8-4e54-b170-2de0f97425c8",
   "metadata": {},
   "outputs": [],
   "source": [
    "Ans: spam.bacon()"
   ]
  },
  {
   "cell_type": "markdown",
   "id": "0a49e80d-3bf5-40b3-8793-9855699cb634",
   "metadata": {},
   "source": [
    "13. What can you do to save a programme from crashing if it encounters an error?"
   ]
  },
  {
   "cell_type": "raw",
   "id": "10ef7a93-8143-46e0-9c00-9964f0ccb01a",
   "metadata": {},
   "source": [
    "Ans: By using try,except claueses a programming can be saved from crashing"
   ]
  },
  {
   "cell_type": "markdown",
   "id": "46aa8349-a383-4842-81e1-24ce88bbcac4",
   "metadata": {},
   "source": [
    "14. What is the purpose of the try clause? What is the purpose of the except clause?"
   ]
  },
  {
   "cell_type": "raw",
   "id": "3916f478-6c86-4676-a7e0-108394486d70",
   "metadata": {},
   "source": [
    "Ans:\n",
    "    try clause is used to prevent a program from crashing by directing the program execution into the except clause and the statements inside it.\n",
    "    \n",
    "    except clause is executed if an error is found while executing the statements/expressions in the try clause, thus prevent program from crashing"
   ]
  }
 ],
 "metadata": {
  "kernelspec": {
   "display_name": "Python 3 (ipykernel)",
   "language": "python",
   "name": "python3"
  },
  "language_info": {
   "codemirror_mode": {
    "name": "ipython",
    "version": 3
   },
   "file_extension": ".py",
   "mimetype": "text/x-python",
   "name": "python",
   "nbconvert_exporter": "python",
   "pygments_lexer": "ipython3",
   "version": "3.10.6"
  }
 },
 "nbformat": 4,
 "nbformat_minor": 5
}
